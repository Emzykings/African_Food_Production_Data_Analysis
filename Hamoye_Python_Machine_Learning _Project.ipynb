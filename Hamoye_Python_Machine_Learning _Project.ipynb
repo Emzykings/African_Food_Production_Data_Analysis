{
 "cells": [
  {
   "cell_type": "markdown",
   "id": "a3086e4d",
   "metadata": {},
   "source": [
    "Read DataSet"
   ]
  },
  {
   "cell_type": "code",
   "execution_count": 1,
   "id": "2068bba8",
   "metadata": {},
   "outputs": [],
   "source": [
    "import pandas as pd\n",
    "\n",
    "data = pd.read_csv(\"FoodBalanceSheets_E_Africa_NOFLAG.csv\", encoding = \"latin-1\")"
   ]
  },
  {
   "cell_type": "code",
   "execution_count": 2,
   "id": "9100ff17",
   "metadata": {},
   "outputs": [
    {
     "data": {
      "text/html": [
       "<div>\n",
       "<style scoped>\n",
       "    .dataframe tbody tr th:only-of-type {\n",
       "        vertical-align: middle;\n",
       "    }\n",
       "\n",
       "    .dataframe tbody tr th {\n",
       "        vertical-align: top;\n",
       "    }\n",
       "\n",
       "    .dataframe thead th {\n",
       "        text-align: right;\n",
       "    }\n",
       "</style>\n",
       "<table border=\"1\" class=\"dataframe\">\n",
       "  <thead>\n",
       "    <tr style=\"text-align: right;\">\n",
       "      <th></th>\n",
       "      <th>Area Code</th>\n",
       "      <th>Area</th>\n",
       "      <th>Item Code</th>\n",
       "      <th>Item</th>\n",
       "      <th>Element Code</th>\n",
       "      <th>Element</th>\n",
       "      <th>Unit</th>\n",
       "      <th>Y2014</th>\n",
       "      <th>Y2015</th>\n",
       "      <th>Y2016</th>\n",
       "      <th>Y2017</th>\n",
       "      <th>Y2018</th>\n",
       "    </tr>\n",
       "  </thead>\n",
       "  <tbody>\n",
       "    <tr>\n",
       "      <th>0</th>\n",
       "      <td>4</td>\n",
       "      <td>Algeria</td>\n",
       "      <td>2501</td>\n",
       "      <td>Population</td>\n",
       "      <td>511</td>\n",
       "      <td>Total Population - Both sexes</td>\n",
       "      <td>1000 persons</td>\n",
       "      <td>38924.00</td>\n",
       "      <td>39728.00</td>\n",
       "      <td>40551.00</td>\n",
       "      <td>41389.00</td>\n",
       "      <td>42228.00</td>\n",
       "    </tr>\n",
       "    <tr>\n",
       "      <th>1</th>\n",
       "      <td>4</td>\n",
       "      <td>Algeria</td>\n",
       "      <td>2501</td>\n",
       "      <td>Population</td>\n",
       "      <td>5301</td>\n",
       "      <td>Domestic supply quantity</td>\n",
       "      <td>1000 tonnes</td>\n",
       "      <td>0.00</td>\n",
       "      <td>0.00</td>\n",
       "      <td>0.00</td>\n",
       "      <td>0.00</td>\n",
       "      <td>0.00</td>\n",
       "    </tr>\n",
       "    <tr>\n",
       "      <th>2</th>\n",
       "      <td>4</td>\n",
       "      <td>Algeria</td>\n",
       "      <td>2901</td>\n",
       "      <td>Grand Total</td>\n",
       "      <td>664</td>\n",
       "      <td>Food supply (kcal/capita/day)</td>\n",
       "      <td>kcal/capita/day</td>\n",
       "      <td>3377.00</td>\n",
       "      <td>3379.00</td>\n",
       "      <td>3372.00</td>\n",
       "      <td>3341.00</td>\n",
       "      <td>3322.00</td>\n",
       "    </tr>\n",
       "    <tr>\n",
       "      <th>3</th>\n",
       "      <td>4</td>\n",
       "      <td>Algeria</td>\n",
       "      <td>2901</td>\n",
       "      <td>Grand Total</td>\n",
       "      <td>674</td>\n",
       "      <td>Protein supply quantity (g/capita/day)</td>\n",
       "      <td>g/capita/day</td>\n",
       "      <td>94.90</td>\n",
       "      <td>94.35</td>\n",
       "      <td>94.72</td>\n",
       "      <td>92.82</td>\n",
       "      <td>91.83</td>\n",
       "    </tr>\n",
       "    <tr>\n",
       "      <th>4</th>\n",
       "      <td>4</td>\n",
       "      <td>Algeria</td>\n",
       "      <td>2901</td>\n",
       "      <td>Grand Total</td>\n",
       "      <td>684</td>\n",
       "      <td>Fat supply quantity (g/capita/day)</td>\n",
       "      <td>g/capita/day</td>\n",
       "      <td>80.06</td>\n",
       "      <td>79.36</td>\n",
       "      <td>77.40</td>\n",
       "      <td>80.19</td>\n",
       "      <td>77.28</td>\n",
       "    </tr>\n",
       "  </tbody>\n",
       "</table>\n",
       "</div>"
      ],
      "text/plain": [
       "   Area Code     Area  Item Code         Item  Element Code  \\\n",
       "0          4  Algeria       2501   Population           511   \n",
       "1          4  Algeria       2501   Population          5301   \n",
       "2          4  Algeria       2901  Grand Total           664   \n",
       "3          4  Algeria       2901  Grand Total           674   \n",
       "4          4  Algeria       2901  Grand Total           684   \n",
       "\n",
       "                                  Element             Unit     Y2014  \\\n",
       "0           Total Population - Both sexes     1000 persons  38924.00   \n",
       "1                Domestic supply quantity      1000 tonnes      0.00   \n",
       "2           Food supply (kcal/capita/day)  kcal/capita/day   3377.00   \n",
       "3  Protein supply quantity (g/capita/day)     g/capita/day     94.90   \n",
       "4      Fat supply quantity (g/capita/day)     g/capita/day     80.06   \n",
       "\n",
       "      Y2015     Y2016     Y2017     Y2018  \n",
       "0  39728.00  40551.00  41389.00  42228.00  \n",
       "1      0.00      0.00      0.00      0.00  \n",
       "2   3379.00   3372.00   3341.00   3322.00  \n",
       "3     94.35     94.72     92.82     91.83  \n",
       "4     79.36     77.40     80.19     77.28  "
      ]
     },
     "execution_count": 2,
     "metadata": {},
     "output_type": "execute_result"
    }
   ],
   "source": [
    "data.head()"
   ]
  },
  {
   "cell_type": "code",
   "execution_count": 3,
   "id": "b31bb524",
   "metadata": {},
   "outputs": [
    {
     "data": {
      "text/plain": [
       "(60943, 12)"
      ]
     },
     "execution_count": 3,
     "metadata": {},
     "output_type": "execute_result"
    }
   ],
   "source": [
    "#checking for number or rows and columns in the dataset\n",
    "data.shape"
   ]
  },
  {
   "cell_type": "code",
   "execution_count": 4,
   "id": "ff2374e0",
   "metadata": {},
   "outputs": [
    {
     "data": {
      "text/plain": [
       "Area Code          0\n",
       "Area               0\n",
       "Item Code          0\n",
       "Item               0\n",
       "Element Code       0\n",
       "Element            0\n",
       "Unit               0\n",
       "Y2014           1589\n",
       "Y2015           1548\n",
       "Y2016           1535\n",
       "Y2017           1506\n",
       "Y2018           1436\n",
       "dtype: int64"
      ]
     },
     "execution_count": 4,
     "metadata": {},
     "output_type": "execute_result"
    }
   ],
   "source": [
    "#checking for null valuses\n",
    "data.isna().sum()"
   ]
  },
  {
   "cell_type": "code",
   "execution_count": 5,
   "id": "8efbabb2",
   "metadata": {},
   "outputs": [
    {
     "name": "stdout",
     "output_type": "stream",
     "text": [
      "The mean for 2017 is: 140.92\n",
      "The standard deviation for 2017 is: 1671.86\n"
     ]
    }
   ],
   "source": [
    "# Calculate mean and standard deviation for the 'Y2017' column\n",
    "mean_2017 = data['Y2017'].mean()\n",
    "std_dev_2017 = data['Y2017'].std()\n",
    "\n",
    "# Print the results\n",
    "print(f\"The mean for 2017 is: {mean_2017:.2f}\")\n",
    "print(f\"The standard deviation for 2017 is: {std_dev_2017:.2f}\")"
   ]
  },
  {
   "cell_type": "code",
   "execution_count": 11,
   "id": "6e3fae3d",
   "metadata": {},
   "outputs": [
    {
     "name": "stdout",
     "output_type": "stream",
     "text": [
      "Total Wine produced in 2015: 4251.8099999999995\n",
      "Total Wine produced in 2018: 4039.3199999999997\n"
     ]
    }
   ],
   "source": [
    "# Filter the DataFrame for the item 'Wine'\n",
    "wine_data = data[data['Item'] == 'Wine']\n",
    "\n",
    "# Calculate the sum of Wine produced in 2015 and 2018\n",
    "wine_production_2015 = wine_data['Y2015'].sum()\n",
    "wine_production_2018 = wine_data['Y2018'].sum()\n",
    "\n",
    "# Print the results\n",
    "print(f'Total Wine produced in 2015: {wine_production_2015}')\n",
    "print(f'Total Wine produced in 2018: {wine_production_2018}')\n"
   ]
  },
  {
   "cell_type": "code",
   "execution_count": 12,
   "id": "f2d4871f",
   "metadata": {},
   "outputs": [
    {
     "data": {
      "text/plain": [
       "8"
      ]
     },
     "execution_count": 12,
     "metadata": {},
     "output_type": "execute_result"
    }
   ],
   "source": [
    "y = [(2, 4), (7, 8), (1, 5, 9)]\n",
    "x = y[1][-1]\n",
    "x"
   ]
  },
  {
   "cell_type": "code",
   "execution_count": 13,
   "id": "8d3220ea",
   "metadata": {},
   "outputs": [
    {
     "name": "stdout",
     "output_type": "stream",
     "text": [
      "The Area with the highest sum in 2017 is: Nigeria\n"
     ]
    }
   ],
   "source": [
    "# Selecting columns 'Y2017' and 'Area'\n",
    "selected_data = data[['Y2017', 'Area']]\n",
    "\n",
    "# Group by 'Area' and calculate the sum for 2017\n",
    "sum_2017_by_area = selected_data.groupby('Area')['Y2017'].sum()\n",
    "\n",
    "# Find the Area with the highest sum in 2017\n",
    "area_with_highest_sum_2017 = sum_2017_by_area.idxmax()\n",
    "\n",
    "# Print the result\n",
    "print(f\"The Area with the highest sum in 2017 is: {area_with_highest_sum_2017}\")\n"
   ]
  },
  {
   "cell_type": "code",
   "execution_count": 14,
   "id": "0b90c4e2",
   "metadata": {},
   "outputs": [
    {
     "name": "stdout",
     "output_type": "stream",
     "text": [
      "The Area(s) with the 7th lowest sum in 2017:\n",
      "Area\n",
      "Guinea-Bissau    19102.77\n",
      "Name: Y2017, dtype: float64\n"
     ]
    }
   ],
   "source": [
    "# Selecting columns 'Y2017' and 'Area'\n",
    "selected_data = data[['Y2017', 'Area']]\n",
    "\n",
    "# Group by 'Area' and calculate the sum for 2017\n",
    "sum_2017_by_area = selected_data.groupby('Area')['Y2017'].sum()\n",
    "\n",
    "# Find the 7th lowest sum in 2017\n",
    "seventh_lowest_sum_2017 = sum_2017_by_area.nsmallest(7).iloc[-1]\n",
    "\n",
    "# Find the Area(s) with the 7th lowest sum in 2017\n",
    "area_with_seventh_lowest_sum_2017 = sum_2017_by_area[sum_2017_by_area == seventh_lowest_sum_2017]\n",
    "\n",
    "# Print the result\n",
    "print(f\"The Area(s) with the 7th lowest sum in 2017:\")\n",
    "print(area_with_seventh_lowest_sum_2017)\n"
   ]
  },
  {
   "cell_type": "code",
   "execution_count": 18,
   "id": "2733daef",
   "metadata": {},
   "outputs": [
    {
     "name": "stdout",
     "output_type": "stream",
     "text": [
      "The total number of the sum of Processing in 2017 is: 292836.0\n"
     ]
    },
    {
     "name": "stderr",
     "output_type": "stream",
     "text": [
      "C:\\Users\\adeit\\AppData\\Local\\Temp\\ipykernel_14640\\844835191.py:8: SettingWithCopyWarning: \n",
      "A value is trying to be set on a copy of a slice from a DataFrame.\n",
      "Try using .loc[row_indexer,col_indexer] = value instead\n",
      "\n",
      "See the caveats in the documentation: https://pandas.pydata.org/pandas-docs/stable/user_guide/indexing.html#returning-a-view-versus-a-copy\n",
      "  processing_2017['Y2017'] = pd.to_numeric(processing_2017['Y2017'], errors='coerce')\n"
     ]
    }
   ],
   "source": [
    "# Filter for rows where the Element is 'Processing'\n",
    "processing_data = data[data['Element'] == 'Processing']\n",
    "\n",
    "# Select the 'Area' and 'Y2017' columns\n",
    "processing_2017 = processing_data[['Area', 'Y2017']]\n",
    "\n",
    "# Convert 'Y2017' column to numeric (in case it's not already)\n",
    "processing_2017['Y2017'] = pd.to_numeric(processing_2017['Y2017'], errors='coerce')\n",
    "\n",
    "# Calculate the sum of 'Y2017' for Processing\n",
    "sum_processing_2017 = processing_2017['Y2017'].sum()\n",
    "\n",
    "# Print the result\n",
    "print(f\"The total number of the sum of Processing in 2017 is: {sum_processing_2017}\")\n"
   ]
  },
  {
   "cell_type": "code",
   "execution_count": 21,
   "id": "f1f0ed55",
   "metadata": {},
   "outputs": [
    {
     "data": {
      "text/html": [
       "<div>\n",
       "<style scoped>\n",
       "    .dataframe tbody tr th:only-of-type {\n",
       "        vertical-align: middle;\n",
       "    }\n",
       "\n",
       "    .dataframe tbody tr th {\n",
       "        vertical-align: top;\n",
       "    }\n",
       "\n",
       "    .dataframe thead th {\n",
       "        text-align: right;\n",
       "    }\n",
       "</style>\n",
       "<table border=\"1\" class=\"dataframe\">\n",
       "  <thead>\n",
       "    <tr style=\"text-align: right;\">\n",
       "      <th></th>\n",
       "      <th>Age</th>\n",
       "      <th>Nationality</th>\n",
       "      <th>Overall</th>\n",
       "    </tr>\n",
       "  </thead>\n",
       "  <tbody>\n",
       "    <tr>\n",
       "      <th>1</th>\n",
       "      <td>35</td>\n",
       "      <td>Portugal</td>\n",
       "      <td>94</td>\n",
       "    </tr>\n",
       "    <tr>\n",
       "      <th>2</th>\n",
       "      <td>33</td>\n",
       "      <td>Argentina</td>\n",
       "      <td>93</td>\n",
       "    </tr>\n",
       "    <tr>\n",
       "      <th>3</th>\n",
       "      <td>30</td>\n",
       "      <td>Brazil</td>\n",
       "      <td>92</td>\n",
       "    </tr>\n",
       "  </tbody>\n",
       "</table>\n",
       "</div>"
      ],
      "text/plain": [
       "   Age Nationality  Overall\n",
       "1   35    Portugal       94\n",
       "2   33   Argentina       93\n",
       "3   30      Brazil       92"
      ]
     },
     "execution_count": 21,
     "metadata": {},
     "output_type": "execute_result"
    }
   ],
   "source": [
    "lst = [[35, 'Portugal', 94], [33, 'Argentina', 93], [30 , 'Brazil', 92]]\n",
    "\n",
    "col = [\"Age\", \"Nationality\" ,\"Overall\"]\n",
    "\n",
    "df = pd.DataFrame(lst, columns = col, index = [i for i in range(1,4)])\n",
    "df"
   ]
  },
  {
   "cell_type": "code",
   "execution_count": 22,
   "id": "ccca9c63",
   "metadata": {},
   "outputs": [
    {
     "name": "stdout",
     "output_type": "stream",
     "text": [
      "The total number of unique countries in the dataset is: 49\n"
     ]
    }
   ],
   "source": [
    "# Use the 'Area' column to find unique countries\n",
    "unique_countries = data['Area'].nunique()\n",
    "\n",
    "# Print the result\n",
    "print(f\"The total number of unique countries in the dataset is: {unique_countries}\")\n"
   ]
  },
  {
   "cell_type": "code",
   "execution_count": 23,
   "id": "fac217b7",
   "metadata": {},
   "outputs": [
    {
     "name": "stdout",
     "output_type": "stream",
     "text": [
      "The year with the highest sum of Stock Variation is: Y2014\n"
     ]
    }
   ],
   "source": [
    "# Filter for rows where 'Element' contains 'Stock Variation'\n",
    "stock_variation_data = data[data['Element'].str.contains('Stock Variation')]\n",
    "\n",
    "# Select only the columns related to the years (Y2014, Y2015, ..., Y2018)\n",
    "year_columns = data.columns[data.columns.str.startswith('Y')]\n",
    "\n",
    "# Melt the DataFrame to have separate rows for each year\n",
    "melted_data = stock_variation_data.melt(id_vars=['Area Code', 'Area', 'Item Code', 'Item', 'Element Code', 'Element', 'Unit'],\n",
    "                                        value_vars=year_columns,\n",
    "                                        var_name='Year',\n",
    "                                        value_name='Value')\n",
    "\n",
    "# Convert 'Value' to numeric\n",
    "melted_data['Value'] = pd.to_numeric(melted_data['Value'], errors='coerce')\n",
    "\n",
    "# Group by 'Year' and calculate the sum of 'Value'\n",
    "sum_by_year = melted_data.groupby('Year')['Value'].sum()\n",
    "\n",
    "# Find the year with the highest sum of Stock Variation\n",
    "year_with_highest_stock_variation = sum_by_year.idxmax()\n",
    "\n",
    "# Print the result\n",
    "print(f\"The year with the highest sum of Stock Variation is: {year_with_highest_stock_variation}\")\n"
   ]
  },
  {
   "cell_type": "code",
   "execution_count": 27,
   "id": "c7e83f6c",
   "metadata": {},
   "outputs": [
    {
     "name": "stdout",
     "output_type": "stream",
     "text": [
      "The total Protein supply quantity in Madagascar in 2015 is: 172.87 kg/capita/yr\n"
     ]
    }
   ],
   "source": [
    "# Filter for rows where 'Area' is Madagascar, 'Element' is 'Food supply quantity (kg/capita/yr)', and select 'Y2015'\n",
    "protein_supply_madagascar_2015 = data[(data['Area'] == 'Madagascar') & \n",
    "                                    (data['Element'] == 'Food supply quantity (kg/capita/yr)')]['Y2015'].values[0]\n",
    "\n",
    "# Print the result\n",
    "print(f\"The total Protein supply quantity in Madagascar in 2015 is: {protein_supply_madagascar_2015} kg/capita/yr\")\n"
   ]
  },
  {
   "cell_type": "code",
   "execution_count": 28,
   "id": "e9ebbb74",
   "metadata": {},
   "outputs": [
    {
     "name": "stdout",
     "output_type": "stream",
     "text": [
      "The year with the least correlation with 'Element Code' is: Y2016\n"
     ]
    }
   ],
   "source": [
    "# Selecting numeric columns (Y2014, Y2015, Y2016, Y2017, Y2018) and 'Element Code'\n",
    "numeric_columns = ['Y2014', 'Y2015', 'Y2016', 'Y2017', 'Y2018']\n",
    "selected_data = data[['Element Code'] + numeric_columns]\n",
    "\n",
    "# Calculate the correlation matrix\n",
    "correlation_matrix = selected_data.corr()\n",
    "\n",
    "# Find the year with the least correlation with 'Element Code'\n",
    "least_correlation_year = correlation_matrix['Element Code'].idxmin()\n",
    "\n",
    "# Print the result\n",
    "print(f\"The year with the least correlation with 'Element Code' is: {least_correlation_year}\")\n"
   ]
  },
  {
   "cell_type": "code",
   "execution_count": 29,
   "id": "4a8dbef3",
   "metadata": {},
   "outputs": [
    {
     "name": "stdout",
     "output_type": "stream",
     "text": [
      "Total number of missing data in 2014: 1589\n",
      "Percentage of missing data in 2014: 2.607%\n"
     ]
    }
   ],
   "source": [
    "# Selecting columns related to 2014\n",
    "data_2014 = data[['Y2014']]\n",
    "\n",
    "# Count the missing values\n",
    "missing_data_count = data_2014.isnull().sum().sum()\n",
    "\n",
    "# Total number of data points\n",
    "total_data_points = data_2014.size\n",
    "\n",
    "# Calculate the percentage of missing data\n",
    "percentage_missing_data = (missing_data_count / total_data_points) * 100\n",
    "\n",
    "# Print the results\n",
    "print(f\"Total number of missing data in 2014: {missing_data_count}\")\n",
    "print(f\"Percentage of missing data in 2014: {percentage_missing_data:.3f}%\")\n"
   ]
  },
  {
   "cell_type": "code",
   "execution_count": null,
   "id": "5fb1c3f6",
   "metadata": {},
   "outputs": [],
   "source": []
  }
 ],
 "metadata": {
  "kernelspec": {
   "display_name": "Python 3 (ipykernel)",
   "language": "python",
   "name": "python3"
  },
  "language_info": {
   "codemirror_mode": {
    "name": "ipython",
    "version": 3
   },
   "file_extension": ".py",
   "mimetype": "text/x-python",
   "name": "python",
   "nbconvert_exporter": "python",
   "pygments_lexer": "ipython3",
   "version": "3.9.13"
  }
 },
 "nbformat": 4,
 "nbformat_minor": 5
}
